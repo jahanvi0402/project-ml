{
 "cells": [
  {
   "cell_type": "markdown",
   "metadata": {},
   "source": [
    "### Simple Linear Regression using Least square method"
   ]
  },
  {
   "cell_type": "code",
   "execution_count": 1,
   "metadata": {},
   "outputs": [],
   "source": [
    "# importing required libraries\n",
    "import pandas as pd\n",
    "import numpy as np\n",
    "from sklearn.preprocessing import StandardScaler\n",
    "import matplotlib.pyplot as plt"
   ]
  },
  {
   "cell_type": "code",
   "execution_count": 2,
   "metadata": {},
   "outputs": [],
   "source": [
    "# creating dataset\n",
    "data = {'Y':[245, 312, 279, 308, 199, 219, 405, 324, 319, 255],\n",
    "        'X':[1400, 1600, 1700, 1875, 1100, 1550, 2350, 2450, 1425, 1700]}\n",
    "df = pd.DataFrame(data)"
   ]
  },
  {
   "cell_type": "code",
   "execution_count": 3,
   "metadata": {},
   "outputs": [],
   "source": [
    "# reshaping the dataset to fit in the model\n",
    "x = df.X\n",
    "y = df.Y\n",
    "x = np.array(x)\n",
    "y = np.array(y)\n",
    "y = y.reshape(-1,1)\n",
    "x = x.reshape(-1,1)"
   ]
  },
  {
   "cell_type": "code",
   "execution_count": 4,
   "metadata": {},
   "outputs": [],
   "source": [
    "# scaling the independent variable\n",
    "scaler = StandardScaler()\n",
    "x_scaled = scaler.fit_transform(x)\n",
    "x_scaled = np.insert(x_scaled, 0, values=1,axis=1)"
   ]
  },
  {
   "cell_type": "code",
   "execution_count": 5,
   "metadata": {},
   "outputs": [],
   "source": [
    "# returns coefficient of the best fitting regression line\n",
    "# formula used:\n",
    "# beta= (x.(x^T))^(-1).(x^T).y\n",
    "def coefficients(x_scaled, y):\n",
    "    return (np.linalg.inv(x_scaled.T.dot(x_scaled))).dot(x_scaled.T).dot(y)"
   ]
  },
  {
   "cell_type": "code",
   "execution_count": 6,
   "metadata": {},
   "outputs": [
    {
     "name": "stdout",
     "output_type": "stream",
     "text": [
      "Intercept:[286.5]\n",
      "Slope:[43.5142905]\n"
     ]
    }
   ],
   "source": [
    "# regression line intercept and slope for the given dataset\n",
    "beta = coefficients(x_scaled, y)\n",
    "print('Intercept:{}\\nSlope:{}'.format(beta[0], beta[1]))"
   ]
  },
  {
   "cell_type": "code",
   "execution_count": 7,
   "metadata": {},
   "outputs": [
    {
     "name": "stdout",
     "output_type": "stream",
     "text": [
      "x = 3000, y = [344.6484166]\n",
      "x = 2000, y = [274.87031668]\n",
      "x = 1500, y =[239.98126672]\n"
     ]
    }
   ],
   "source": [
    "# predictions\n",
    "x_pred = np.array([3000, 2000, 1500])\n",
    "x_pred=x_pred.reshape(-1,1)\n",
    "x_pred = scaler.fit_transform(x_pred)\n",
    "x_pred = np.insert(x_pred, 0, values=1,axis=1)\n",
    "y_predict = x_pred.dot(beta)\n",
    "print('x = 3000, y = {}\\nx = 2000, y = {}\\nx = 1500, y ={}'.format(*y_predict))"
   ]
  },
  {
   "cell_type": "code",
   "execution_count": 8,
   "metadata": {
    "scrolled": true
   },
   "outputs": [
    {
     "data": {
      "image/png": "[encoded data removed]",
      "text/plain": [
       "<Figure size 432x288 with 1 Axes>"
      ]
     },
     "metadata": {
      "needs_background": "light"
     },
     "output_type": "display_data"
    }
   ],
   "source": [
    "# scatterplot and regression line\n",
    "plt.scatter(x, y)\n",
    "y_preds = [beta[0] + beta[1] *i for i in x_scaled[:, 1]]\n",
    "plt.plot(x, y_preds)\n",
    "plt.show()"
   ]
  },
  {
   "cell_type": "code",
   "execution_count": 9,
   "metadata": {},
   "outputs": [
    {
     "name": "stdout",
     "output_type": "stream",
     "text": [
      "Mean square error: 1366.556522430798\n",
      "Root Mean Square error: 36.96696528565467\n",
      "R2 Score: 0.5808173118722725\n"
     ]
    }
   ],
   "source": [
    "# performance evaluation\n",
    "error = y - y_preds\n",
    "square_error = np.power(error,2)\n",
    "mse = sum(square_error)/len(y)\n",
    "rms = np.sqrt(mse)\n",
    "y_mean = np.mean(y)\n",
    "var = np.sum((y-y_mean)**2)\n",
    "r = 1 - sum(square_error)/var\n",
    "print('Mean square error: {}\\nRoot Mean Square error: {}\\nR2 Score: {}'.format(mse[0],rms[0],r[0]))"
   ]
  },
  {
   "cell_type": "markdown",
   "metadata": {},
   "source": [
    "### Multiple Linear Regression using Least Square Method "
   ]
  },
  {
   "cell_type": "code",
   "execution_count": 10,
   "metadata": {},
   "outputs": [
    {
     "data": {
      "text/html": [
       "<div>\n",
       "<style scoped>\n",
       "    .dataframe tbody tr th:only-of-type {\n",
       "        vertical-align: middle;\n",
       "    }\n",
       "\n",
       "    .dataframe tbody tr th {\n",
       "        vertical-align: top;\n",
       "    }\n",
       "\n",
       "    .dataframe thead th {\n",
       "        text-align: right;\n",
       "    }\n",
       "</style>\n",
       "<table border=\"1\" class=\"dataframe\">\n",
       "  <thead>\n",
       "    <tr style=\"text-align: right;\">\n",
       "      <th></th>\n",
       "      <th>Year</th>\n",
       "      <th>Month</th>\n",
       "      <th>Interest_Rate</th>\n",
       "      <th>Unemployment_Rate</th>\n",
       "      <th>Stock_Index_Price</th>\n",
       "    </tr>\n",
       "  </thead>\n",
       "  <tbody>\n",
       "    <tr>\n",
       "      <th>0</th>\n",
       "      <td>2017</td>\n",
       "      <td>12</td>\n",
       "      <td>2.75</td>\n",
       "      <td>5.3</td>\n",
       "      <td>1464</td>\n",
       "    </tr>\n",
       "    <tr>\n",
       "      <th>1</th>\n",
       "      <td>2017</td>\n",
       "      <td>11</td>\n",
       "      <td>2.50</td>\n",
       "      <td>5.3</td>\n",
       "      <td>1394</td>\n",
       "    </tr>\n",
       "    <tr>\n",
       "      <th>2</th>\n",
       "      <td>2017</td>\n",
       "      <td>10</td>\n",
       "      <td>2.50</td>\n",
       "      <td>5.3</td>\n",
       "      <td>1357</td>\n",
       "    </tr>\n",
       "    <tr>\n",
       "      <th>3</th>\n",
       "      <td>2017</td>\n",
       "      <td>9</td>\n",
       "      <td>2.50</td>\n",
       "      <td>5.3</td>\n",
       "      <td>1293</td>\n",
       "    </tr>\n",
       "    <tr>\n",
       "      <th>4</th>\n",
       "      <td>2017</td>\n",
       "      <td>8</td>\n",
       "      <td>2.50</td>\n",
       "      <td>5.4</td>\n",
       "      <td>1256</td>\n",
       "    </tr>\n",
       "  </tbody>\n",
       "</table>\n",
       "</div>"
      ],
      "text/plain": [
       "   Year  Month  Interest_Rate  Unemployment_Rate  Stock_Index_Price\n",
       "0  2017     12           2.75                5.3               1464\n",
       "1  2017     11           2.50                5.3               1394\n",
       "2  2017     10           2.50                5.3               1357\n",
       "3  2017      9           2.50                5.3               1293\n",
       "4  2017      8           2.50                5.4               1256"
      ]
     },
     "execution_count": 10,
     "metadata": {},
     "output_type": "execute_result"
    }
   ],
   "source": [
    "# create dataset\n",
    "data = {'Year':[2017, 2017, 2017, 2017, 2017, 2017, 2017, 2017, 2017, 2017, 2017, 2017, 2016, 2016, 2016, 2016, 2016, 2016, 2016, 2016, 2016, 2016, 2016, 2016],\n",
    "        'Month':[12, 11, 10, 9, 8, 7, 6, 5, 4, 3, 2, 1,12, 11, 10, 9, 8, 7, 6, 5, 4, 3, 2, 1],\n",
    "        'Interest_Rate':[2.75, 2.5, 2.5, 2.5, 2.5, 2.5,2.5, 2.25, 2.25, 2.25, 2, 2, 2, 1.75, 1.75, 1.75, 1.75, 1.75, 1.75, 1.75, 1.75, 1.75, 1.75, 1.75],\n",
    "        'Unemployment_Rate': [5.3, 5.3, 5.3, 5.3, 5.4, 5.6, 5.5, 5.5, 5.5, 5.6, 5.7, 5.9, 6, 5.9, 5.8, 6.1, 6.2, 6.1,6.1,6.1,5.9,6.2,6.2,6.1],\n",
    "        'Stock_Index_Price':[1464, 1394,1357,1293,1256,1254,1234,1195,1159,1167,1130,1075,1047,965,943,958,971,949,884,866,876,822,704,719]\n",
    "        \n",
    "       }\n",
    "df = pd.DataFrame(data)\n",
    "df.head()"
   ]
  },
  {
   "cell_type": "code",
   "execution_count": 11,
   "metadata": {},
   "outputs": [
    {
     "data": {
      "text/plain": [
       "array([[ 1.        ,  1.        ,  1.59325501,  1.97880334, -1.47026414],\n",
       "       [ 1.        ,  1.        ,  1.30357228,  1.24816826, -1.47026414],\n",
       "       [ 1.        ,  1.        ,  1.01388955,  1.24816826, -1.47026414],\n",
       "       [ 1.        ,  1.        ,  0.72420682,  1.24816826, -1.47026414],\n",
       "       [ 1.        ,  1.        ,  0.43452409,  1.24816826, -1.16073485],\n",
       "       [ 1.        ,  1.        ,  0.14484136,  1.24816826, -0.54167626],\n",
       "       [ 1.        ,  1.        , -0.14484136,  1.24816826, -0.85120556],\n",
       "       [ 1.        ,  1.        , -0.43452409,  0.51753318, -0.85120556],\n",
       "       [ 1.        ,  1.        , -0.72420682,  0.51753318, -0.85120556],\n",
       "       [ 1.        ,  1.        , -1.01388955,  0.51753318, -0.54167626],\n",
       "       [ 1.        ,  1.        , -1.30357228, -0.2131019 , -0.23214697],\n",
       "       [ 1.        ,  1.        , -1.59325501, -0.2131019 ,  0.38691162],\n",
       "       [ 1.        , -1.        ,  1.59325501, -0.2131019 ,  0.69644091],\n",
       "       [ 1.        , -1.        ,  1.30357228, -0.94373698,  0.38691162],\n",
       "       [ 1.        , -1.        ,  1.01388955, -0.94373698,  0.07738232],\n",
       "       [ 1.        , -1.        ,  0.72420682, -0.94373698,  1.0059702 ],\n",
       "       [ 1.        , -1.        ,  0.43452409, -0.94373698,  1.3154995 ],\n",
       "       [ 1.        , -1.        ,  0.14484136, -0.94373698,  1.0059702 ],\n",
       "       [ 1.        , -1.        , -0.14484136, -0.94373698,  1.0059702 ],\n",
       "       [ 1.        , -1.        , -0.43452409, -0.94373698,  1.0059702 ],\n",
       "       [ 1.        , -1.        , -0.72420682, -0.94373698,  0.38691162],\n",
       "       [ 1.        , -1.        , -1.01388955, -0.94373698,  1.3154995 ],\n",
       "       [ 1.        , -1.        , -1.30357228, -0.94373698,  1.3154995 ],\n",
       "       [ 1.        , -1.        , -1.59325501, -0.94373698,  1.0059702 ]])"
      ]
     },
     "execution_count": 11,
     "metadata": {},
     "output_type": "execute_result"
    }
   ],
   "source": [
    "# scaling and transforming\n",
    "x = df.iloc[:,:-1]\n",
    "x = np.array(x)\n",
    "x_scaled = scaler.fit_transform(x)\n",
    "x_scaled = np.insert(x_scaled, 0, values=1,axis=1)\n",
    "x_scaled"
   ]
  },
  {
   "cell_type": "code",
   "execution_count": 12,
   "metadata": {},
   "outputs": [],
   "source": [
    "y = df.Stock_Index_Price\n",
    "y = np.array(y)\n",
    "y = y.reshape(-1,1)"
   ]
  },
  {
   "cell_type": "code",
   "execution_count": 13,
   "metadata": {},
   "outputs": [
    {
     "name": "stdout",
     "output_type": "stream",
     "text": [
      "beta 1: [1070.08333333]\n",
      "beta 2: [169.13407143]\n",
      "beta 3: [96.04977006]\n",
      "beta 4: [24.60949865]\n",
      "beta 5: [14.56927777]\n"
     ]
    }
   ],
   "source": [
    "# regression coefficients for the dataset\n",
    "beta = coefficients(x_scaled, y)\n",
    "\n",
    "print('beta 1: {}'.format(beta[0]))\n",
    "print('beta 2: {}'.format(beta[1]))\n",
    "print('beta 3: {}'.format(beta[2]))\n",
    "print('beta 4: {}'.format(beta[3]))\n",
    "print('beta 5: {}'.format(beta[4]))"
   ]
  },
  {
   "cell_type": "code",
   "execution_count": 14,
   "metadata": {},
   "outputs": [
    {
     "name": "stdout",
     "output_type": "stream",
     "text": [
      "y is [1191.49939239] for interest rate 1.5 and unemplyment rate 5.8\n"
     ]
    }
   ],
   "source": [
    "# prediction \n",
    "\n",
    "y_pred = beta[0] + beta[-1]*5.8 + beta[-2]*1.5\n",
    "print('y is {} for interest rate 1.5 and unemplyment rate 5.8'.format(y_pred))"
   ]
  },
  {
   "cell_type": "code",
   "execution_count": 15,
   "metadata": {},
   "outputs": [
    {
     "name": "stdout",
     "output_type": "stream",
     "text": [
      "Mean square error: 923.6388149319869\n",
      "Root Mean Square error: 30.39142666825608\n",
      "R2 Score: 0.9782974467058868\n"
     ]
    }
   ],
   "source": [
    "# performance evaluation\n",
    "beta=np.array(beta).reshape(-1,1)\n",
    "y_preds=x_scaled.dot(beta)\n",
    "error = y - y_preds\n",
    "square_error = np.power(error,2)\n",
    "mse = sum(square_error)/len(y)\n",
    "rms = np.sqrt(mse)\n",
    "y_mean = np.mean(y)\n",
    "var = np.sum((y-y_mean)**2)\n",
    "r = 1 - sum(square_error)/var\n",
    "print('Mean square error: {}\\nRoot Mean Square error: {}\\nR2 Score: {}'.format(mse[0],rms[0],r[0]))"
   ]
  }
 ],
 "metadata": {
  "kernelspec": {
   "display_name": "Python 3",
   "language": "python",
   "name": "python3"
  },
  "language_info": {
   "codemirror_mode": {
    "name": "ipython",
    "version": 3
   },
   "file_extension": ".py",
   "mimetype": "text/x-python",
   "name": "python",
   "nbconvert_exporter": "python",
   "pygments_lexer": "ipython3",
   "version": "3.8.8"
  }
 },
 "nbformat": 4,
 "nbformat_minor": 4
}
