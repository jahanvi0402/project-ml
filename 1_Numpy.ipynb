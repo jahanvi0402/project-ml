{
 "cells": [
  {
   "cell_type": "code",
   "execution_count": 1,
   "metadata": {},
   "outputs": [],
   "source": [
    "import numpy as np"
   ]
  },
  {
   "cell_type": "code",
   "execution_count": 2,
   "metadata": {},
   "outputs": [],
   "source": [
    "a = np.array([1, 2, 3])"
   ]
  },
  {
   "cell_type": "code",
   "execution_count": 3,
   "metadata": {},
   "outputs": [
    {
     "name": "stdout",
     "output_type": "stream",
     "text": [
      "1\n",
      "(3,)\n",
      "int32\n",
      "4\n"
     ]
    }
   ],
   "source": [
    "print(a.ndim)  # Total dimensions\n",
    "print(a.shape) # Shape of array\n",
    "print(a.dtype) # Datatype of array\n",
    "print(a.itemsize) # The size in bytes of each element of the array"
   ]
  },
  {
   "cell_type": "code",
   "execution_count": 14,
   "metadata": {},
   "outputs": [
    {
     "name": "stdout",
     "output_type": "stream",
     "text": [
      "[[[0 0 0]\n",
      "  [0 0 0]]]\n",
      "[[['1' '1']\n",
      "  ['1' '1']]\n",
      "\n",
      " [['1' '1']\n",
      "  ['1' '1']]\n",
      "\n",
      " [['1' '1']\n",
      "  ['1' '1']]\n",
      "\n",
      " [['1' '1']\n",
      "  ['1' '1']]\n",
      "\n",
      " [['1' '1']\n",
      "  ['1' '1']]]\n"
     ]
    }
   ],
   "source": [
    "print(np.zeros((1,2,3), dtype = \"int\")) \n",
    "print(np.ones((5,2,2), dtype = \"str\"))   # first is for number of copies"
   ]
  },
  {
   "cell_type": "code",
   "execution_count": 15,
   "metadata": {},
   "outputs": [
    {
     "data": {
      "text/plain": [
       "array([13, 16, 15, 11,  3])"
      ]
     },
     "execution_count": 15,
     "metadata": {},
     "output_type": "execute_result"
    }
   ],
   "source": [
    "np.random.randint(low = 1, high=20, size=5, dtype=int)"
   ]
  },
  {
   "cell_type": "code",
   "execution_count": 16,
   "metadata": {},
   "outputs": [
    {
     "data": {
      "text/plain": [
       "array([[0.45896399, 0.89709265, 0.03719708],\n",
       "       [0.53518748, 0.86662002, 0.7947249 ]])"
      ]
     },
     "execution_count": 16,
     "metadata": {},
     "output_type": "execute_result"
    }
   ],
   "source": [
    "np.random.rand(2,3) # Total numbers (shape) to generate"
   ]
  },
  {
   "cell_type": "code",
   "execution_count": 17,
   "metadata": {},
   "outputs": [
    {
     "name": "stdout",
     "output_type": "stream",
     "text": [
      "[ 1  3  5  7  9 11 13 15 17 19 21 23 25 27 29 31 33 35 37 39 41 43 45 47\n",
      " 49]\n",
      "[ 1.          1.47368421  1.94736842  2.42105263  2.89473684  3.36842105\n",
      "  3.84210526  4.31578947  4.78947368  5.26315789  5.73684211  6.21052632\n",
      "  6.68421053  7.15789474  7.63157895  8.10526316  8.57894737  9.05263158\n",
      "  9.52631579 10.        ]\n"
     ]
    }
   ],
   "source": [
    "print(np.arange(1,50,2)) # Print a list\n",
    "print(np.linspace(1,10,20)) # Print the given total values (equi-distant) within a give range "
   ]
  },
  {
   "cell_type": "code",
   "execution_count": 18,
   "metadata": {},
   "outputs": [],
   "source": [
    "# We can use +, *, -, /, @ (Matrix multiplication)"
   ]
  },
  {
   "cell_type": "code",
   "execution_count": 20,
   "metadata": {},
   "outputs": [
    {
     "name": "stdout",
     "output_type": "stream",
     "text": [
      "Sum: 6\n",
      "Min: 1\n",
      "Max: 3\n",
      "Avg: 2.0\n",
      "SD: 0.816496580927726\n"
     ]
    }
   ],
   "source": [
    "print(\"Sum: \" + str(a.sum()))\n",
    "print(\"Min: \" + str(a.min()))\n",
    "print(\"Max: \" + str(a.max()))\n",
    "print(\"Avg: \" + str(a.mean()))\n",
    "print(\"SD: \" + str(a.std()))"
   ]
  },
  {
   "cell_type": "markdown",
   "metadata": {},
   "source": [
    "#### Image Modification using Numpy used in Computer Vision"
   ]
  },
  {
   "cell_type": "markdown",
   "metadata": {},
   "source": [
    "<li>(PIL) python image library used to view images in jupyter notebook\n",
    "<li>Any img is an set array where back and white imgs are of 2 dimensions and we can make changes in colors of the picture by changing array element's values.\n",
    "<li>And we can reshape our img using np.reshape function which helps us in resizing our image\n",
    "<li> <b>Note:-</b> The array is of unsinged int (non-negative integers)"
   ]
  },
  {
   "cell_type": "markdown",
   "metadata": {},
   "source": [
    "#### Indexing, Slicing, Iteration"
   ]
  },
  {
   "cell_type": "code",
   "execution_count": 21,
   "metadata": {},
   "outputs": [
    {
     "data": {
      "text/plain": [
       "array([1, 2, 3])"
      ]
     },
     "execution_count": 21,
     "metadata": {},
     "output_type": "execute_result"
    }
   ],
   "source": [
    "# 1 Dimension arrays indexing works as a list\n",
    "dim_1 = np.array([1, 2, 3, 4, 5])\n",
    "dim_1[0:3]"
   ]
  },
  {
   "cell_type": "code",
   "execution_count": 22,
   "metadata": {},
   "outputs": [
    {
     "data": {
      "text/plain": [
       "array([[ 8,  9, 10],\n",
       "       [13, 14, 15]])"
      ]
     },
     "execution_count": 22,
     "metadata": {},
     "output_type": "execute_result"
    }
   ],
   "source": [
    "# 2 Dimension arrays indexing works as rows and columns arr[rows, cols]\n",
    "dim_2 = np.array([[1, 2, 3, 4, 5], [6, 7, 8, 9, 10], [11, 12, 13, 14, 15]])\n",
    "dim_2[1:4, 2:5]"
   ]
  },
  {
   "cell_type": "markdown",
   "metadata": {},
   "source": [
    "<b>Note:</b>- Slicing of an array also makes the changes to the original array if we chage the value in our array it also redirects ti the original array and to prevent that we use arr.copy() function\n",
    "    "
   ]
  },
  {
   "cell_type": "code",
   "execution_count": 23,
   "metadata": {},
   "outputs": [
    {
     "name": "stdout",
     "output_type": "stream",
     "text": [
      "[[ 0  2  3  4  5]\n",
      " [ 6  7  8  9 10]\n",
      " [11 12 13 14 15]]\n"
     ]
    }
   ],
   "source": [
    "dim_2[0,0] = 0\n",
    "print(dim_2) # look it changes from 1 to 0"
   ]
  },
  {
   "cell_type": "code",
   "execution_count": 24,
   "metadata": {},
   "outputs": [
    {
     "data": {
      "text/plain": [
       "array([ 0,  7, 13])"
      ]
     },
     "execution_count": 24,
     "metadata": {},
     "output_type": "execute_result"
    }
   ],
   "source": [
    "np.array([dim_2[0,0], dim_2[1,1], dim_2[2,2]])  \n",
    "# creates a new array of selected elements from an array"
   ]
  },
  {
   "cell_type": "code",
   "execution_count": 25,
   "metadata": {},
   "outputs": [
    {
     "data": {
      "text/plain": [
       "array([0, 8])"
      ]
     },
     "execution_count": 25,
     "metadata": {},
     "output_type": "execute_result"
    }
   ],
   "source": [
    "dim_2[[0,1], [0,2]]   \n",
    "# Prints (0,0)th element and (1,2)th element"
   ]
  },
  {
   "cell_type": "markdown",
   "metadata": {},
   "source": [
    "<b><u>Boolean Indexing</b></u>"
   ]
  },
  {
   "cell_type": "code",
   "execution_count": 26,
   "metadata": {},
   "outputs": [
    {
     "name": "stdout",
     "output_type": "stream",
     "text": [
      "[False False False False  True  True  True  True  True  True]\n",
      "[False  True False  True False  True False  True False  True]\n"
     ]
    }
   ],
   "source": [
    "# This trick is called boolean indexing \n",
    "#(it works the same for 2d arr)\n",
    "arr = np.array([1, 2, 3, 4, 5, 6, 7, 8, 9, 10])\n",
    "print (arr>=5)\n",
    "print (arr%2==0)"
   ]
  },
  {
   "cell_type": "code",
   "execution_count": 27,
   "metadata": {},
   "outputs": [
    {
     "name": "stdout",
     "output_type": "stream",
     "text": [
      "[[False False False False False]\n",
      " [ True  True  True  True  True]\n",
      " [ True  True  True  True  True]]\n",
      "v/s\n",
      "[ 6  7  8  9 10 11 12 13 14 15]\n"
     ]
    }
   ],
   "source": [
    "# Filter out our data trick (while using indexing)\n",
    "# Simply put the condition in square [] brackets\n",
    "print(dim_2>5)  # creates a true/false mask\n",
    "print(\"v/s\")\n",
    "print(dim_2[dim_2>5]) # Filter out the false ones"
   ]
  },
  {
   "cell_type": "markdown",
   "metadata": {},
   "source": [
    "#### Importing datasets using numpy by genfromtxt() function in numpy library"
   ]
  },
  {
   "cell_type": "code",
   "execution_count": 28,
   "metadata": {},
   "outputs": [],
   "source": [
    "# Using wines.csv datafile"
   ]
  },
  {
   "cell_type": "code",
   "execution_count": 29,
   "metadata": {},
   "outputs": [
    {
     "name": "stdout",
     "output_type": "stream",
     "text": [
      "(1599,)\n",
      "\n",
      "\n",
      "[(7.4, 0.7 , 0.  , 1.9, 0.076, 11., 34., 0.9978, 3.51, 0.56, 9.4, 5)\n",
      " (7.8, 0.88, 0.  , 2.6, 0.098, 25., 67., 0.9968, 3.2 , 0.68, 9.8, 5)\n",
      " (7.8, 0.76, 0.04, 2.3, 0.092, 15., 54., 0.997 , 3.26, 0.65, 9.8, 5)]\n",
      "\n",
      "\n"
     ]
    }
   ],
   "source": [
    "# Here we skip headers as genfromtxt only read numeric data and store string data as nan values\n",
    "wines = np.genfromtxt(\"winequality-red.csv\", delimiter = \";\", skip_header=True, dtype = None, names = (\"fixed acidity\",\"volatile acidity\",\"citric acid\",\"residual sugar\",\"chlorides\",\"free sulfur dioxide\",\"total sulfur dioxide\",\"density\",\"pH\",\"sulphates\",\"alcohol\",\"quality\"))\n",
    "print(wines.shape)\n",
    "print()\n",
    "print()\n",
    "print(wines[:3])\n",
    "print()\n",
    "print()\n",
    "#print(wines[:,[0,2,4]])  arr(rows, columns) # Print specific cols of the dataset if datasets not have headers"
   ]
  },
  {
   "cell_type": "code",
   "execution_count": 30,
   "metadata": {},
   "outputs": [
    {
     "name": "stdout",
     "output_type": "stream",
     "text": [
      "5.6360225140712945\n"
     ]
    }
   ],
   "source": [
    "#Function can also be applied to the datsets directly by using chainning\n",
    "print(wines[\"quality\"][:].mean())\n",
    "#arr[col header][row count]\n",
    "# Mean of the quality column using all rows"
   ]
  },
  {
   "cell_type": "code",
   "execution_count": 31,
   "metadata": {},
   "outputs": [
    {
     "name": "stdout",
     "output_type": "stream",
     "text": [
      "[ True  True  True ...  True  True  True]\n",
      "3.3111131957473416\n"
     ]
    }
   ],
   "source": [
    "# We can also use boolean masking as well as filtering\n",
    "print (wines[\"quality\"]>1)\n",
    "print (wines[wines[\"quality\"]>1][\"pH\"].mean())  \n",
    "# Check if quality is greater than 1 than the rows with greater quality's pH mean is taken"
   ]
  },
  {
   "cell_type": "code",
   "execution_count": null,
   "metadata": {},
   "outputs": [],
   "source": [
    "# String io is a tecniques by which we can print a data with /n, /t, etc as a normal sting of python and there is asperate library in python used in text analytics"
   ]
  }
 ],
 "metadata": {
  "kernelspec": {
   "display_name": "Python 3",
   "language": "python",
   "name": "python3"
  },
  "language_info": {
   "codemirror_mode": {
    "name": "ipython",
    "version": 3
   },
   "file_extension": ".py",
   "mimetype": "text/x-python",
   "name": "python",
   "nbconvert_exporter": "python",
   "pygments_lexer": "ipython3",
   "version": "3.8.5"
  }
 },
 "nbformat": 4,
 "nbformat_minor": 4
}
